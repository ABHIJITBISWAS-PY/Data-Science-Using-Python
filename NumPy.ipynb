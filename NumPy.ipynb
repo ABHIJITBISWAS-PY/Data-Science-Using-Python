{
 "cells": [
  {
   "cell_type": "code",
   "execution_count": 3,
   "metadata": {},
   "outputs": [],
   "source": [
    "import numpy as np\n"
   ]
  },
  {
   "cell_type": "code",
   "execution_count": 5,
   "metadata": {},
   "outputs": [],
   "source": [
    "my_list=[1,2,3]"
   ]
  },
  {
   "cell_type": "code",
   "execution_count": 7,
   "metadata": {},
   "outputs": [],
   "source": [
    "arr=np.array(my_list)"
   ]
  },
  {
   "cell_type": "code",
   "execution_count": 12,
   "metadata": {},
   "outputs": [
    {
     "data": {
      "text/plain": [
       "array([1, 2, 3])"
      ]
     },
     "execution_count": 12,
     "metadata": {},
     "output_type": "execute_result"
    }
   ],
   "source": [
    "arr"
   ]
  },
  {
   "cell_type": "code",
   "execution_count": 10,
   "metadata": {},
   "outputs": [],
   "source": [
    "mat=[[1,2,3],[4,5,6],[7,8,9]]"
   ]
  },
  {
   "cell_type": "code",
   "execution_count": 13,
   "metadata": {},
   "outputs": [
    {
     "data": {
      "text/plain": [
       "array([[1, 2, 3],\n",
       "       [4, 5, 6],\n",
       "       [7, 8, 9]])"
      ]
     },
     "execution_count": 13,
     "metadata": {},
     "output_type": "execute_result"
    }
   ],
   "source": [
    "np.array(mat)"
   ]
  },
  {
   "cell_type": "code",
   "execution_count": 19,
   "metadata": {},
   "outputs": [
    {
     "data": {
      "text/plain": [
       "array([0, 1, 2, 3, 4, 5, 6, 7, 8, 9])"
      ]
     },
     "execution_count": 19,
     "metadata": {},
     "output_type": "execute_result"
    }
   ],
   "source": [
    "np.arange(0,10)"
   ]
  },
  {
   "cell_type": "code",
   "execution_count": 22,
   "metadata": {},
   "outputs": [
    {
     "data": {
      "text/plain": [
       "array([[0., 0.],\n",
       "       [0., 0.],\n",
       "       [0., 0.],\n",
       "       [0., 0.]])"
      ]
     },
     "execution_count": 22,
     "metadata": {},
     "output_type": "execute_result"
    }
   ],
   "source": [
    "np.zeros((4,2))"
   ]
  },
  {
   "cell_type": "code",
   "execution_count": 32,
   "metadata": {},
   "outputs": [
    {
     "data": {
      "text/plain": [
       "array([[[0.75869001, 0.79874345, 0.86641869, 0.91896873, 0.5417989 ,\n",
       "         0.14012712],\n",
       "        [0.84795524, 0.41484165, 0.1176806 , 0.64935316, 0.88114412,\n",
       "         0.52798962],\n",
       "        [0.55049655, 0.57857033, 0.11077759, 0.46885946, 0.34194228,\n",
       "         0.04206008],\n",
       "        [0.09580323, 0.58279146, 0.20933385, 0.35320908, 0.16912754,\n",
       "         0.73984936]],\n",
       "\n",
       "       [[0.85748292, 0.16091408, 0.42364778, 0.25893048, 0.49465738,\n",
       "         0.72015956],\n",
       "        [0.3494081 , 0.31824793, 0.66771037, 0.84761718, 0.36261255,\n",
       "         0.50659244],\n",
       "        [0.81159564, 0.4047556 , 0.37043136, 0.20386126, 0.35834869,\n",
       "         0.91016546],\n",
       "        [0.95689675, 0.13498858, 0.25598489, 0.9502646 , 0.13675304,\n",
       "         0.41047068]],\n",
       "\n",
       "       [[0.8663159 , 0.95381167, 0.66348068, 0.1186244 , 0.29660014,\n",
       "         0.80563533],\n",
       "        [0.25788146, 0.80411714, 0.87141318, 0.54718619, 0.76995971,\n",
       "         0.78418957],\n",
       "        [0.12752327, 0.66723278, 0.32370527, 0.21872829, 0.67269674,\n",
       "         0.47085347],\n",
       "        [0.11245387, 0.30577227, 0.58017943, 0.06834937, 0.57864557,\n",
       "         0.60056187]],\n",
       "\n",
       "       [[0.63085919, 0.28063328, 0.92092901, 0.42240116, 0.95854592,\n",
       "         0.20883162],\n",
       "        [0.97465869, 0.12815102, 0.35847149, 0.51592664, 0.29137177,\n",
       "         0.87581837],\n",
       "        [0.69120813, 0.08933371, 0.79330948, 0.76752589, 0.57738559,\n",
       "         0.68845425],\n",
       "        [0.92375217, 0.16054018, 0.17939887, 0.42662229, 0.97188325,\n",
       "         0.37784369]],\n",
       "\n",
       "       [[0.58571355, 0.2017914 , 0.26743573, 0.45606244, 0.81279462,\n",
       "         0.70608103],\n",
       "        [0.21348235, 0.71708162, 0.13532748, 0.84121665, 0.94354131,\n",
       "         0.54519276],\n",
       "        [0.42711691, 0.22402844, 0.64316218, 0.06468188, 0.95805574,\n",
       "         0.27279768],\n",
       "        [0.20659322, 0.7679573 , 0.57889889, 0.28314717, 0.23314784,\n",
       "         0.91618598]]])"
      ]
     },
     "execution_count": 32,
     "metadata": {},
     "output_type": "execute_result"
    }
   ],
   "source": [
    "np.random.rand(5,4,10)"
   ]
  }
 ],
 "metadata": {
  "kernelspec": {
   "display_name": "Python 3",
   "language": "python",
   "name": "python3"
  },
  "language_info": {
   "codemirror_mode": {
    "name": "ipython",
    "version": 3
   },
   "file_extension": ".py",
   "mimetype": "text/x-python",
   "name": "python",
   "nbconvert_exporter": "python",
   "pygments_lexer": "ipython3",
   "version": "3.7.4"
  }
 },
 "nbformat": 4,
 "nbformat_minor": 4
}
